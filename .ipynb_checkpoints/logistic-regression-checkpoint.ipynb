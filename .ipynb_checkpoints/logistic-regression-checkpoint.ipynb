{
 "cells": [
  {
   "cell_type": "code",
   "execution_count": 10,
   "id": "e38426da",
   "metadata": {},
   "outputs": [],
   "source": [
    "import numpy as np \n",
    "import matplotlib.pyplot as plt\n",
    "import pandas as pd"
   ]
  },
  {
   "cell_type": "code",
   "execution_count": 11,
   "id": "4ad5fd1a",
   "metadata": {},
   "outputs": [],
   "source": [
    "weights=[]\n",
    "bayes=[]"
   ]
  },
  {
   "cell_type": "code",
   "execution_count": 12,
   "id": "e6a95cf1",
   "metadata": {},
   "outputs": [],
   "source": [
    "def predict(x,w,b):\n",
    "    z=w.dot(x)+b\n",
    "    prediction=1/(1+np.exp(-z))\n",
    "    return prediction"
   ]
  },
  {
   "cell_type": "code",
   "execution_count": 169,
   "id": "3596f8e9",
   "metadata": {},
   "outputs": [],
   "source": [
    "def gradient(x,y,w,b):\n",
    "    sum_w=np.zeros(len(w))\n",
    "    sum_b=0\n",
    "    learning_rate=0.05\n",
    "    for i in range(len(x)):\n",
    "        sum_w+=(predict(x[i],w,b)-y[i])+x[i]\n",
    "        sum_b+=predict(x[i],w,b)-y[i]\n",
    "    w=w-(learning_rate*sum_w/len(x))\n",
    "    b=b-(learning_rate*sum_b/len(x))\n",
    "    weights.append(w)\n",
    "    bayes.append(b)\n",
    "    return w,b"
   ]
  },
  {
   "cell_type": "code",
   "execution_count": 162,
   "id": "3cd30950",
   "metadata": {},
   "outputs": [],
   "source": [
    "def logistic_regression(x,y):\n",
    "    rows,columns=x.shape\n",
    "    w=np.zeros(columns)\n",
    "    b=0\n",
    "    for i in range(1000):\n",
    "        w,b=gredint(x,y,w,b)\n",
    "    print(\"final parameters\",w,b)"
   ]
  },
  {
   "cell_type": "code",
   "execution_count": 133,
   "id": "c2d66193",
   "metadata": {},
   "outputs": [
    {
     "data": {
      "text/html": [
       "<div>\n",
       "<style scoped>\n",
       "    .dataframe tbody tr th:only-of-type {\n",
       "        vertical-align: middle;\n",
       "    }\n",
       "\n",
       "    .dataframe tbody tr th {\n",
       "        vertical-align: top;\n",
       "    }\n",
       "\n",
       "    .dataframe thead th {\n",
       "        text-align: right;\n",
       "    }\n",
       "</style>\n",
       "<table border=\"1\" class=\"dataframe\">\n",
       "  <thead>\n",
       "    <tr style=\"text-align: right;\">\n",
       "      <th></th>\n",
       "      <th>Unnamed: 0</th>\n",
       "      <th>age</th>\n",
       "      <th>sex</th>\n",
       "      <th>chest pain type</th>\n",
       "      <th>resting bps</th>\n",
       "      <th>cholesterol</th>\n",
       "      <th>fasting blood sugar</th>\n",
       "      <th>resting ecg</th>\n",
       "      <th>max heart rate</th>\n",
       "      <th>exercise angina</th>\n",
       "      <th>oldpeak</th>\n",
       "      <th>ST slope</th>\n",
       "      <th>target</th>\n",
       "    </tr>\n",
       "  </thead>\n",
       "  <tbody>\n",
       "    <tr>\n",
       "      <th>0</th>\n",
       "      <td>0</td>\n",
       "      <td>40</td>\n",
       "      <td>1</td>\n",
       "      <td>2</td>\n",
       "      <td>140</td>\n",
       "      <td>289.0</td>\n",
       "      <td>0</td>\n",
       "      <td>0</td>\n",
       "      <td>172</td>\n",
       "      <td>0</td>\n",
       "      <td>0.0</td>\n",
       "      <td>1</td>\n",
       "      <td>0</td>\n",
       "    </tr>\n",
       "    <tr>\n",
       "      <th>1</th>\n",
       "      <td>1</td>\n",
       "      <td>49</td>\n",
       "      <td>0</td>\n",
       "      <td>3</td>\n",
       "      <td>160</td>\n",
       "      <td>180.0</td>\n",
       "      <td>0</td>\n",
       "      <td>0</td>\n",
       "      <td>156</td>\n",
       "      <td>0</td>\n",
       "      <td>1.0</td>\n",
       "      <td>2</td>\n",
       "      <td>1</td>\n",
       "    </tr>\n",
       "    <tr>\n",
       "      <th>2</th>\n",
       "      <td>2</td>\n",
       "      <td>37</td>\n",
       "      <td>1</td>\n",
       "      <td>2</td>\n",
       "      <td>130</td>\n",
       "      <td>283.0</td>\n",
       "      <td>0</td>\n",
       "      <td>1</td>\n",
       "      <td>98</td>\n",
       "      <td>0</td>\n",
       "      <td>0.0</td>\n",
       "      <td>1</td>\n",
       "      <td>0</td>\n",
       "    </tr>\n",
       "    <tr>\n",
       "      <th>3</th>\n",
       "      <td>3</td>\n",
       "      <td>48</td>\n",
       "      <td>0</td>\n",
       "      <td>4</td>\n",
       "      <td>138</td>\n",
       "      <td>214.0</td>\n",
       "      <td>0</td>\n",
       "      <td>0</td>\n",
       "      <td>108</td>\n",
       "      <td>1</td>\n",
       "      <td>1.5</td>\n",
       "      <td>2</td>\n",
       "      <td>1</td>\n",
       "    </tr>\n",
       "    <tr>\n",
       "      <th>4</th>\n",
       "      <td>4</td>\n",
       "      <td>54</td>\n",
       "      <td>1</td>\n",
       "      <td>3</td>\n",
       "      <td>150</td>\n",
       "      <td>195.0</td>\n",
       "      <td>0</td>\n",
       "      <td>0</td>\n",
       "      <td>122</td>\n",
       "      <td>0</td>\n",
       "      <td>0.0</td>\n",
       "      <td>1</td>\n",
       "      <td>0</td>\n",
       "    </tr>\n",
       "  </tbody>\n",
       "</table>\n",
       "</div>"
      ],
      "text/plain": [
       "   Unnamed: 0  age  sex  chest pain type  resting bps  cholesterol  \\\n",
       "0           0   40    1                2          140        289.0   \n",
       "1           1   49    0                3          160        180.0   \n",
       "2           2   37    1                2          130        283.0   \n",
       "3           3   48    0                4          138        214.0   \n",
       "4           4   54    1                3          150        195.0   \n",
       "\n",
       "   fasting blood sugar  resting ecg  max heart rate  exercise angina  oldpeak  \\\n",
       "0                    0            0             172                0      0.0   \n",
       "1                    0            0             156                0      1.0   \n",
       "2                    0            1              98                0      0.0   \n",
       "3                    0            0             108                1      1.5   \n",
       "4                    0            0             122                0      0.0   \n",
       "\n",
       "   ST slope  target  \n",
       "0         1       0  \n",
       "1         2       1  \n",
       "2         1       0  \n",
       "3         2       1  \n",
       "4         1       0  "
      ]
     },
     "execution_count": 133,
     "metadata": {},
     "output_type": "execute_result"
    }
   ],
   "source": [
    "dataset=pd.read_csv('datasets/Heart Disease.csv')\n",
    "dataset.head()"
   ]
  },
  {
   "cell_type": "code",
   "execution_count": 134,
   "id": "4492d7cb",
   "metadata": {},
   "outputs": [
    {
     "name": "stdout",
     "output_type": "stream",
     "text": [
      "      Unnamed: 0  age  sex  chest pain type  resting bps  cholesterol  \\\n",
      "0              0   40    1                2          140        289.0   \n",
      "1              1   49    0                3          160        180.0   \n",
      "2              2   37    1                2          130        283.0   \n",
      "3              3   48    0                4          138        214.0   \n",
      "4              4   54    1                3          150        195.0   \n",
      "...          ...  ...  ...              ...          ...          ...   \n",
      "1043         297   68    0                3          120        211.0   \n",
      "1044         298   44    0                3          108        141.0   \n",
      "1045         299   52    1                1          128        255.0   \n",
      "1046         300   59    1                4          160        273.0   \n",
      "1047         301   54    1                1          120        188.0   \n",
      "\n",
      "      fasting blood sugar  resting ecg  max heart rate  exercise angina  \\\n",
      "0                       0            0             172                0   \n",
      "1                       0            0             156                0   \n",
      "2                       0            1              98                0   \n",
      "3                       0            0             108                1   \n",
      "4                       0            0             122                0   \n",
      "...                   ...          ...             ...              ...   \n",
      "1043                    0            0             115                0   \n",
      "1044                    0            1             175                0   \n",
      "1045                    0            1             161                1   \n",
      "1046                    0            0             125                0   \n",
      "1047                    0            1             113                0   \n",
      "\n",
      "      oldpeak  ST slope  \n",
      "0         0.0         1  \n",
      "1         1.0         2  \n",
      "2         0.0         1  \n",
      "3         1.5         2  \n",
      "4         0.0         1  \n",
      "...       ...       ...  \n",
      "1043      1.5         1  \n",
      "1044      0.6         1  \n",
      "1045      0.0         2  \n",
      "1046      0.0         2  \n",
      "1047      1.4         1  \n",
      "\n",
      "[1048 rows x 12 columns]\n",
      "[0 1 0 ... 0 0 0]\n"
     ]
    }
   ],
   "source": [
    "x=dataset.iloc[:,:-1]\n",
    "y=np.asarray(dataset.iloc[:,-1])\n",
    "print(x)\n",
    "print(y)"
   ]
  },
  {
   "cell_type": "code",
   "execution_count": 135,
   "id": "9b4df80f",
   "metadata": {},
   "outputs": [
    {
     "data": {
      "text/plain": [
       "Unnamed: 0             0\n",
       "age                    0\n",
       "sex                    0\n",
       "chest pain type        0\n",
       "resting bps            0\n",
       "cholesterol            0\n",
       "fasting blood sugar    0\n",
       "resting ecg            0\n",
       "max heart rate         0\n",
       "exercise angina        0\n",
       "oldpeak                0\n",
       "ST slope               0\n",
       "target                 0\n",
       "dtype: int64"
      ]
     },
     "execution_count": 135,
     "metadata": {},
     "output_type": "execute_result"
    }
   ],
   "source": [
    "dataset.isnull().sum()"
   ]
  },
  {
   "cell_type": "code",
   "execution_count": 136,
   "id": "2857fd62",
   "metadata": {},
   "outputs": [
    {
     "data": {
      "text/plain": [
       "Unnamed: 0             307.916633\n",
       "age                      9.397822\n",
       "sex                      0.441686\n",
       "chest pain type          1.118649\n",
       "resting bps             17.367605\n",
       "cholesterol             57.101359\n",
       "fasting blood sugar      0.368823\n",
       "resting ecg              0.763313\n",
       "max heart rate          24.427115\n",
       "exercise angina          0.482579\n",
       "oldpeak                  1.100429\n",
       "ST slope                 0.611023\n",
       "dtype: float64"
      ]
     },
     "execution_count": 136,
     "metadata": {},
     "output_type": "execute_result"
    }
   ],
   "source": [
    "x.std()"
   ]
  },
  {
   "cell_type": "code",
   "execution_count": 137,
   "id": "f24101e2",
   "metadata": {},
   "outputs": [
    {
     "name": "stdout",
     "output_type": "stream",
     "text": [
      "[[-1.26991583 -1.41859938  0.60086518 ... -0.76359778 -0.85677142\n",
      "  -0.87181115]\n",
      " [-1.26666665 -0.4604734  -1.66426686 ... -0.76359778  0.05239874\n",
      "   0.76556893]\n",
      " [-1.26341746 -1.7379747   0.60086518 ... -0.76359778 -0.85677142\n",
      "  -0.87181115]\n",
      " ...\n",
      " [-0.29841016 -0.14109807  0.60086518 ...  1.30958998 -0.85677142\n",
      "   0.76556893]\n",
      " [-0.29516098  0.60411103  0.60086518 ... -0.76359778 -0.85677142\n",
      "   0.76556893]\n",
      " [-0.29191179  0.07181882  0.60086518 ... -0.76359778  0.4160668\n",
      "  -0.87181115]]\n"
     ]
    }
   ],
   "source": [
    "from sklearn.preprocessing import StandardScaler\n",
    "scaler=StandardScaler()\n",
    "x=scaler.fit_transform(x)\n",
    "print(x)"
   ]
  },
  {
   "cell_type": "code",
   "execution_count": 138,
   "id": "a1d3786f",
   "metadata": {},
   "outputs": [
    {
     "data": {
      "text/plain": [
       "1.0"
      ]
     },
     "execution_count": 138,
     "metadata": {},
     "output_type": "execute_result"
    }
   ],
   "source": [
    "x.std()"
   ]
  },
  {
   "cell_type": "code",
   "execution_count": 139,
   "id": "0655d64b",
   "metadata": {},
   "outputs": [
    {
     "name": "stdout",
     "output_type": "stream",
     "text": [
      "(1048, 12)\n",
      "(1048,)\n"
     ]
    }
   ],
   "source": [
    "print(x.shape)\n",
    "print(y.shape)"
   ]
  },
  {
   "cell_type": "code",
   "execution_count": 140,
   "id": "8a94a952",
   "metadata": {},
   "outputs": [],
   "source": [
    "from sklearn.model_selection import train_test_split\n",
    "xtrain,xtest,ytrain,ytest=train_test_split(x,y,test_size=0.25)"
   ]
  },
  {
   "cell_type": "code",
   "execution_count": 141,
   "id": "753b8435",
   "metadata": {},
   "outputs": [
    {
     "name": "stdout",
     "output_type": "stream",
     "text": [
      "(786, 12)\n",
      "(786,)\n",
      "(262, 12)\n",
      "(262,)\n"
     ]
    }
   ],
   "source": [
    "print(xtrain.shape)\n",
    "print(ytrain.shape)\n",
    "print(xtest.shape)\n",
    "print(ytest.shape)"
   ]
  },
  {
   "cell_type": "code",
   "execution_count": 170,
   "id": "f1361bac",
   "metadata": {},
   "outputs": [
    {
     "name": "stdout",
     "output_type": "stream",
     "text": [
      "final parameters [-0.31924562  0.16020504  0.15784087  0.62167362 -0.08530113 -0.04343558\n",
      "  0.08507607  0.22851362  0.15861299  0.19108572  0.20948305  1.24104311] -0.05294597369528169\n"
     ]
    }
   ],
   "source": [
    "logistic_regression(xtrain,ytrain)"
   ]
  },
  {
   "cell_type": "code",
   "execution_count": 171,
   "id": "9dcdfa9d",
   "metadata": {},
   "outputs": [
    {
     "name": "stdout",
     "output_type": "stream",
     "text": [
      "[ 0.99476461  0.49765258  0.60086518  1.05736162  0.77113923 -0.47609521\n",
      " -0.44002485 -0.79542766 -1.55306907 -0.76359778  0.9615689   0.76556893] 1\n"
     ]
    }
   ],
   "source": [
    "print(xtest[0],ytest[0])"
   ]
  },
  {
   "cell_type": "code",
   "execution_count": 172,
   "id": "734d13cf",
   "metadata": {},
   "outputs": [
    {
     "data": {
      "text/plain": [
       "1"
      ]
     },
     "execution_count": 172,
     "metadata": {},
     "output_type": "execute_result"
    }
   ],
   "source": [
    "round(predict(xtest[0],weights[-1],bayes[-1]))"
   ]
  },
  {
   "cell_type": "code",
   "execution_count": 173,
   "id": "0e713cd2",
   "metadata": {},
   "outputs": [
    {
     "name": "stdout",
     "output_type": "stream",
     "text": [
      "1\n",
      "1\n"
     ]
    }
   ],
   "source": [
    "print(round(predict(xtest[1],weights[-1],bayes[-1])))\n",
    "print(ytest[1])"
   ]
  },
  {
   "cell_type": "code",
   "execution_count": 174,
   "id": "b659c4b3",
   "metadata": {},
   "outputs": [
    {
     "name": "stdout",
     "output_type": "stream",
     "text": [
      "0.7709923664122137\n"
     ]
    }
   ],
   "source": [
    "from sklearn.metrics import accuracy_score\n",
    "predictions=np.zeros(len(ytest))\n",
    "for i in range(len(ytest)):\n",
    "    predictions[i]=round(predict(xtest[i],weights[-1],bayes[-1]))\n",
    "accuracy=accuracy_score(predictions,ytest)\n",
    "print(accuracy)"
   ]
  },
  {
   "cell_type": "code",
   "execution_count": 175,
   "id": "9e04082a",
   "metadata": {},
   "outputs": [
    {
     "name": "stdout",
     "output_type": "stream",
     "text": [
      "0.8040712468193384\n"
     ]
    }
   ],
   "source": [
    "train_pred=np.zeros(len(ytrain))\n",
    "for i in range(len(ytrain)):\n",
    "    train_pred[i]=round(predict(xtrain[i],weights[-1],bayes[-1]))\n",
    "train_accuracy=accuracy_score(train_pred,ytrain)\n",
    "print(train_accuracy)"
   ]
  },
  {
   "cell_type": "code",
   "execution_count": null,
   "id": "b3f1984a",
   "metadata": {},
   "outputs": [],
   "source": []
  }
 ],
 "metadata": {
  "kernelspec": {
   "display_name": "Python 3 (ipykernel)",
   "language": "python",
   "name": "python3"
  },
  "language_info": {
   "codemirror_mode": {
    "name": "ipython",
    "version": 3
   },
   "file_extension": ".py",
   "mimetype": "text/x-python",
   "name": "python",
   "nbconvert_exporter": "python",
   "pygments_lexer": "ipython3",
   "version": "3.11.9"
  }
 },
 "nbformat": 4,
 "nbformat_minor": 5
}
