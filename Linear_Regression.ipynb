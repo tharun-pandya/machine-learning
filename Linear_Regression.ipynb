{
 "cells": [
  {
   "cell_type": "code",
   "execution_count": 2,
   "id": "abd07c3d",
   "metadata": {},
   "outputs": [],
   "source": [
    "import numpy as np\n",
    "import pandas as pd\n",
    "from sklearn.model_selection import train_test_split\n",
    "from sklearn.metrics import mean_squared_error\n",
    "import matplotlib.pyplot as plt"
   ]
  },
  {
   "cell_type": "code",
   "execution_count": 15,
   "id": "c2ef4084",
   "metadata": {},
   "outputs": [],
   "source": [
    "weights=list()\n",
    "bayes=list()"
   ]
  },
  {
   "cell_type": "code",
   "execution_count": 3,
   "id": "9bf0a48a",
   "metadata": {},
   "outputs": [],
   "source": [
    "def pred(x,w,b):\n",
    "    fx=(w*x)+b\n",
    "    return fx"
   ]
  },
  {
   "cell_type": "code",
   "execution_count": 4,
   "id": "524eab53",
   "metadata": {},
   "outputs": [],
   "source": [
    "def cost(x,y,w,b):\n",
    "    total=0\n",
    "    for i in range(len(x)):\n",
    "        total+=(pred(x[i],w,b)-y[i])**2\n",
    "    jwb=total/(2*len(x))\n",
    "    return jwb"
   ]
  },
  {
   "cell_type": "code",
   "execution_count": 16,
   "id": "86d82269",
   "metadata": {},
   "outputs": [],
   "source": [
    "def gredient(x,y,w,b):\n",
    "    learn_rate=0.025\n",
    "    sum_der_w=0\n",
    "    sum_der_b=0\n",
    "    for i in range(len(x)):\n",
    "        sum_der_w+=(pred(x[i],w,b)-y[i])*x[i]\n",
    "        sum_der_b+=pred(x[i],w,b)-y[i]\n",
    "    temp_w=w-(learn_rate*1/len(x)*sum_der_w)\n",
    "    temp_b=b-(learn_rate*1/len(x)*sum_der_b)\n",
    "    w=temp_w\n",
    "    b=temp_b\n",
    "    cost(x,y,w,b)\n",
    "    weights.append(w)\n",
    "    bayes.append(b)\n",
    "    return w,b"
   ]
  },
  {
   "cell_type": "code",
   "execution_count": 6,
   "id": "83e8f7ed",
   "metadata": {},
   "outputs": [],
   "source": [
    "def linearRegression(x,y):\n",
    "    m=x.shape\n",
    "    w=0\n",
    "    b=0\n",
    "    for i in range(1000):\n",
    "        w,b=gredient(x,y,w,b)\n",
    "    print(\"final model parameters is:\",w,b)"
   ]
  },
  {
   "cell_type": "code",
   "execution_count": 7,
   "id": "f1d5e3c7",
   "metadata": {},
   "outputs": [],
   "source": [
    "df=pd.read_csv('Salary_Data.csv')"
   ]
  },
  {
   "cell_type": "code",
   "execution_count": 8,
   "id": "e646fc9f",
   "metadata": {},
   "outputs": [
    {
     "data": {
      "text/html": [
       "<div>\n",
       "<style scoped>\n",
       "    .dataframe tbody tr th:only-of-type {\n",
       "        vertical-align: middle;\n",
       "    }\n",
       "\n",
       "    .dataframe tbody tr th {\n",
       "        vertical-align: top;\n",
       "    }\n",
       "\n",
       "    .dataframe thead th {\n",
       "        text-align: right;\n",
       "    }\n",
       "</style>\n",
       "<table border=\"1\" class=\"dataframe\">\n",
       "  <thead>\n",
       "    <tr style=\"text-align: right;\">\n",
       "      <th></th>\n",
       "      <th>YearsExperience</th>\n",
       "      <th>Salary</th>\n",
       "    </tr>\n",
       "  </thead>\n",
       "  <tbody>\n",
       "    <tr>\n",
       "      <th>0</th>\n",
       "      <td>1.1</td>\n",
       "      <td>39343.0</td>\n",
       "    </tr>\n",
       "    <tr>\n",
       "      <th>1</th>\n",
       "      <td>1.3</td>\n",
       "      <td>46205.0</td>\n",
       "    </tr>\n",
       "    <tr>\n",
       "      <th>2</th>\n",
       "      <td>1.5</td>\n",
       "      <td>37731.0</td>\n",
       "    </tr>\n",
       "    <tr>\n",
       "      <th>3</th>\n",
       "      <td>2.0</td>\n",
       "      <td>43525.0</td>\n",
       "    </tr>\n",
       "    <tr>\n",
       "      <th>4</th>\n",
       "      <td>2.2</td>\n",
       "      <td>39891.0</td>\n",
       "    </tr>\n",
       "    <tr>\n",
       "      <th>5</th>\n",
       "      <td>2.9</td>\n",
       "      <td>56642.0</td>\n",
       "    </tr>\n",
       "    <tr>\n",
       "      <th>6</th>\n",
       "      <td>3.0</td>\n",
       "      <td>60150.0</td>\n",
       "    </tr>\n",
       "    <tr>\n",
       "      <th>7</th>\n",
       "      <td>3.2</td>\n",
       "      <td>54445.0</td>\n",
       "    </tr>\n",
       "    <tr>\n",
       "      <th>8</th>\n",
       "      <td>3.2</td>\n",
       "      <td>64445.0</td>\n",
       "    </tr>\n",
       "    <tr>\n",
       "      <th>9</th>\n",
       "      <td>3.7</td>\n",
       "      <td>57189.0</td>\n",
       "    </tr>\n",
       "    <tr>\n",
       "      <th>10</th>\n",
       "      <td>3.9</td>\n",
       "      <td>63218.0</td>\n",
       "    </tr>\n",
       "    <tr>\n",
       "      <th>11</th>\n",
       "      <td>4.0</td>\n",
       "      <td>55794.0</td>\n",
       "    </tr>\n",
       "    <tr>\n",
       "      <th>12</th>\n",
       "      <td>4.0</td>\n",
       "      <td>56957.0</td>\n",
       "    </tr>\n",
       "    <tr>\n",
       "      <th>13</th>\n",
       "      <td>4.1</td>\n",
       "      <td>57081.0</td>\n",
       "    </tr>\n",
       "    <tr>\n",
       "      <th>14</th>\n",
       "      <td>4.5</td>\n",
       "      <td>61111.0</td>\n",
       "    </tr>\n",
       "    <tr>\n",
       "      <th>15</th>\n",
       "      <td>4.9</td>\n",
       "      <td>67938.0</td>\n",
       "    </tr>\n",
       "    <tr>\n",
       "      <th>16</th>\n",
       "      <td>5.1</td>\n",
       "      <td>66029.0</td>\n",
       "    </tr>\n",
       "    <tr>\n",
       "      <th>17</th>\n",
       "      <td>5.3</td>\n",
       "      <td>83088.0</td>\n",
       "    </tr>\n",
       "    <tr>\n",
       "      <th>18</th>\n",
       "      <td>5.9</td>\n",
       "      <td>81363.0</td>\n",
       "    </tr>\n",
       "    <tr>\n",
       "      <th>19</th>\n",
       "      <td>6.0</td>\n",
       "      <td>93940.0</td>\n",
       "    </tr>\n",
       "    <tr>\n",
       "      <th>20</th>\n",
       "      <td>6.8</td>\n",
       "      <td>91738.0</td>\n",
       "    </tr>\n",
       "    <tr>\n",
       "      <th>21</th>\n",
       "      <td>7.1</td>\n",
       "      <td>98273.0</td>\n",
       "    </tr>\n",
       "    <tr>\n",
       "      <th>22</th>\n",
       "      <td>7.9</td>\n",
       "      <td>101302.0</td>\n",
       "    </tr>\n",
       "    <tr>\n",
       "      <th>23</th>\n",
       "      <td>8.2</td>\n",
       "      <td>113812.0</td>\n",
       "    </tr>\n",
       "    <tr>\n",
       "      <th>24</th>\n",
       "      <td>8.7</td>\n",
       "      <td>109431.0</td>\n",
       "    </tr>\n",
       "    <tr>\n",
       "      <th>25</th>\n",
       "      <td>9.0</td>\n",
       "      <td>105582.0</td>\n",
       "    </tr>\n",
       "    <tr>\n",
       "      <th>26</th>\n",
       "      <td>9.5</td>\n",
       "      <td>116969.0</td>\n",
       "    </tr>\n",
       "    <tr>\n",
       "      <th>27</th>\n",
       "      <td>9.6</td>\n",
       "      <td>112635.0</td>\n",
       "    </tr>\n",
       "    <tr>\n",
       "      <th>28</th>\n",
       "      <td>10.3</td>\n",
       "      <td>122391.0</td>\n",
       "    </tr>\n",
       "    <tr>\n",
       "      <th>29</th>\n",
       "      <td>10.5</td>\n",
       "      <td>121872.0</td>\n",
       "    </tr>\n",
       "  </tbody>\n",
       "</table>\n",
       "</div>"
      ],
      "text/plain": [
       "    YearsExperience    Salary\n",
       "0               1.1   39343.0\n",
       "1               1.3   46205.0\n",
       "2               1.5   37731.0\n",
       "3               2.0   43525.0\n",
       "4               2.2   39891.0\n",
       "5               2.9   56642.0\n",
       "6               3.0   60150.0\n",
       "7               3.2   54445.0\n",
       "8               3.2   64445.0\n",
       "9               3.7   57189.0\n",
       "10              3.9   63218.0\n",
       "11              4.0   55794.0\n",
       "12              4.0   56957.0\n",
       "13              4.1   57081.0\n",
       "14              4.5   61111.0\n",
       "15              4.9   67938.0\n",
       "16              5.1   66029.0\n",
       "17              5.3   83088.0\n",
       "18              5.9   81363.0\n",
       "19              6.0   93940.0\n",
       "20              6.8   91738.0\n",
       "21              7.1   98273.0\n",
       "22              7.9  101302.0\n",
       "23              8.2  113812.0\n",
       "24              8.7  109431.0\n",
       "25              9.0  105582.0\n",
       "26              9.5  116969.0\n",
       "27              9.6  112635.0\n",
       "28             10.3  122391.0\n",
       "29             10.5  121872.0"
      ]
     },
     "execution_count": 8,
     "metadata": {},
     "output_type": "execute_result"
    }
   ],
   "source": [
    "df"
   ]
  },
  {
   "cell_type": "code",
   "execution_count": 9,
   "id": "2d3dc406",
   "metadata": {},
   "outputs": [],
   "source": [
    "x=df['YearsExperience']\n",
    "y=df['Salary']"
   ]
  },
  {
   "cell_type": "code",
   "execution_count": 186,
   "id": "11d7a7ca",
   "metadata": {},
   "outputs": [
    {
     "name": "stdout",
     "output_type": "stream",
     "text": [
      "0      1.1\n",
      "1      1.3\n",
      "2      1.5\n",
      "3      2.0\n",
      "4      2.2\n",
      "5      2.9\n",
      "6      3.0\n",
      "7      3.2\n",
      "8      3.2\n",
      "9      3.7\n",
      "10     3.9\n",
      "11     4.0\n",
      "12     4.0\n",
      "13     4.1\n",
      "14     4.5\n",
      "15     4.9\n",
      "16     5.1\n",
      "17     5.3\n",
      "18     5.9\n",
      "19     6.0\n",
      "20     6.8\n",
      "21     7.1\n",
      "22     7.9\n",
      "23     8.2\n",
      "24     8.7\n",
      "25     9.0\n",
      "26     9.5\n",
      "27     9.6\n",
      "28    10.3\n",
      "29    10.5\n",
      "Name: YearsExperience, dtype: float64\n",
      "0      39343.0\n",
      "1      46205.0\n",
      "2      37731.0\n",
      "3      43525.0\n",
      "4      39891.0\n",
      "5      56642.0\n",
      "6      60150.0\n",
      "7      54445.0\n",
      "8      64445.0\n",
      "9      57189.0\n",
      "10     63218.0\n",
      "11     55794.0\n",
      "12     56957.0\n",
      "13     57081.0\n",
      "14     61111.0\n",
      "15     67938.0\n",
      "16     66029.0\n",
      "17     83088.0\n",
      "18     81363.0\n",
      "19     93940.0\n",
      "20     91738.0\n",
      "21     98273.0\n",
      "22    101302.0\n",
      "23    113812.0\n",
      "24    109431.0\n",
      "25    105582.0\n",
      "26    116969.0\n",
      "27    112635.0\n",
      "28    122391.0\n",
      "29    121872.0\n",
      "Name: Salary, dtype: float64\n"
     ]
    }
   ],
   "source": [
    "print(x)\n",
    "print(y)"
   ]
  },
  {
   "cell_type": "code",
   "execution_count": 187,
   "id": "2f539fa3",
   "metadata": {},
   "outputs": [],
   "source": [
    "xtrain,xtest,ytrain,ytest=train_test_split(x,y,test_size=0.25,random_state=33)"
   ]
  },
  {
   "cell_type": "code",
   "execution_count": 190,
   "id": "7e66e590",
   "metadata": {},
   "outputs": [
    {
     "name": "stdout",
     "output_type": "stream",
     "text": [
      "(22,)\n",
      "(22,)\n",
      "(8,)\n",
      "(8,)\n"
     ]
    }
   ],
   "source": [
    "print(xtrain.shape)\n",
    "print(ytrain.shape)\n",
    "print(xtest.shape)\n",
    "print(ytest.shape)"
   ]
  },
  {
   "cell_type": "code",
   "execution_count": 192,
   "id": "9543a5fa",
   "metadata": {},
   "outputs": [],
   "source": [
    "xtrain=np.asarray(xtrain)\n",
    "ytrain=np.asarray(ytrain)"
   ]
  },
  {
   "cell_type": "code",
   "execution_count": 193,
   "id": "492023ad",
   "metadata": {},
   "outputs": [
    {
     "name": "stdout",
     "output_type": "stream",
     "text": [
      "final model parameters is: 9540.945618572901 25356.229426831585\n"
     ]
    }
   ],
   "source": [
    "linearRegression(xtrain,ytrain)"
   ]
  },
  {
   "cell_type": "code",
   "execution_count": 194,
   "id": "61399c3f",
   "metadata": {},
   "outputs": [],
   "source": [
    "xtest=np.asarray(xtest)\n",
    "predictions=list()\n",
    "for i in xtest:\n",
    "    predictions.append(pred(i,weights[-1],bayes[-2]))"
   ]
  },
  {
   "cell_type": "code",
   "execution_count": 196,
   "id": "11eabc03",
   "metadata": {},
   "outputs": [
    {
     "data": {
      "image/png": "[encoded data removed]",
      "text/plain": [
       "<Figure size 640x480 with 1 Axes>"
      ]
     },
     "metadata": {},
     "output_type": "display_data"
    }
   ],
   "source": [
    "plt.scatter(xtest,ytest)\n",
    "plt.plot(xtest,predictions,color=\"r\")\n",
    "plt.show()"
   ]
  },
  {
   "cell_type": "code",
   "execution_count": 197,
   "id": "d6a83175",
   "metadata": {},
   "outputs": [
    {
     "data": {
      "text/plain": [
       "YearsExperience        6.8\n",
       "Salary             91738.0\n",
       "Name: 20, dtype: float64"
      ]
     },
     "execution_count": 197,
     "metadata": {},
     "output_type": "execute_result"
    }
   ],
   "source": [
    "df.iloc[20]"
   ]
  },
  {
   "cell_type": "code",
   "execution_count": 203,
   "id": "414724f2",
   "metadata": {},
   "outputs": [
    {
     "name": "stdout",
     "output_type": "stream",
     "text": [
      "2260032.258668891\n"
     ]
    }
   ],
   "source": [
    "prediction=pred(6.8,list1[-1],list2[-1])\n",
    "mse=mean_squared_error([91738.0],[prediction])\n",
    "print(mse)"
   ]
  },
  {
   "cell_type": "code",
   "execution_count": 204,
   "id": "ed0a556d",
   "metadata": {},
   "outputs": [
    {
     "data": {
      "text/plain": [
       "90234.65963312732"
      ]
     },
     "execution_count": 204,
     "metadata": {},
     "output_type": "execute_result"
    }
   ],
   "source": [
    "prediction"
   ]
  },
  {
   "cell_type": "code",
   "execution_count": 12,
   "id": "b51489a1",
   "metadata": {},
   "outputs": [
    {
     "name": "stdout",
     "output_type": "stream",
     "text": [
      "0     1.1\n",
      "1     1.3\n",
      "2     1.5\n",
      "3     2.0\n",
      "4     2.2\n",
      "5     2.9\n",
      "6     3.0\n",
      "7     3.2\n",
      "8     3.2\n",
      "9     3.7\n",
      "10    3.9\n",
      "Name: YearsExperience, dtype: float64\n"
     ]
    }
   ],
   "source": [
    "xsubset=x.iloc[:11]\n",
    "print(xsubset)"
   ]
  },
  {
   "cell_type": "code",
   "execution_count": 13,
   "id": "436c600f",
   "metadata": {},
   "outputs": [
    {
     "name": "stdout",
     "output_type": "stream",
     "text": [
      "0     39343.0\n",
      "1     46205.0\n",
      "2     37731.0\n",
      "3     43525.0\n",
      "4     39891.0\n",
      "5     56642.0\n",
      "6     60150.0\n",
      "7     54445.0\n",
      "8     64445.0\n",
      "9     57189.0\n",
      "10    63218.0\n",
      "Name: Salary, dtype: float64\n"
     ]
    }
   ],
   "source": [
    "ysubset=y.iloc[:11]\n",
    "print(ysubset)"
   ]
  },
  {
   "cell_type": "code",
   "execution_count": 17,
   "id": "3e8b7160",
   "metadata": {},
   "outputs": [
    {
     "name": "stdout",
     "output_type": "stream",
     "text": [
      "final model parameters is: 9563.520547136492 26649.091844263243\n"
     ]
    }
   ],
   "source": [
    "linearRegression(xsubset,ysubset)"
   ]
  },
  {
   "cell_type": "code",
   "execution_count": null,
   "id": "3be02aca",
   "metadata": {},
   "outputs": [],
   "source": []
  },
  {
   "cell_type": "code",
   "execution_count": null,
   "id": "89ddbb61",
   "metadata": {},
   "outputs": [],
   "source": []
  },
  {
   "cell_type": "code",
   "execution_count": null,
   "id": "e90ba81e",
   "metadata": {},
   "outputs": [],
   "source": []
  },
  {
   "cell_type": "code",
   "execution_count": null,
   "id": "9c56a877",
   "metadata": {},
   "outputs": [],
   "source": []
  }
 ],
 "metadata": {
  "kernelspec": {
   "display_name": "Python 3 (ipykernel)",
   "language": "python",
   "name": "python3"
  },
  "language_info": {
   "codemirror_mode": {
    "name": "ipython",
    "version": 3
   },
   "file_extension": ".py",
   "mimetype": "text/x-python",
   "name": "python",
   "nbconvert_exporter": "python",
   "pygments_lexer": "ipython3",
   "version": "3.11.9"
  }
 },
 "nbformat": 4,
 "nbformat_minor": 5
}
